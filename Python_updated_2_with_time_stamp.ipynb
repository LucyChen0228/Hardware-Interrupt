{
 "cells": [
  {
   "cell_type": "code",
   "execution_count": null,
   "metadata": {},
   "outputs": [],
   "source": [
    "import serial\n",
    "import os\n",
    "import time\n",
    "import datetime\n",
    "\n",
    "\n",
    "\n",
    "def connect(port):\n",
    "    '''Function to start serial connection'''\n",
    "    ser = serial.Serial(port, 250000, timeout=2)\n",
    "    return ser\n",
    "\n",
    "def write_logfile(ser, filepath, samplerate):\n",
    "    #write the\n",
    "    ser.write(str.encode(str(samplerate))) \n",
    "\n",
    "    first_entry = ser.readline().decode().strip()\n",
    "    try:\n",
    "        int(first_entry) #see if we indeed get integers back, used to catch an exception message\n",
    "    except: #if we don't get an integer back, it's an error message.\n",
    "        print('error setting sampling rate on device. It returned message: \\n\\n------------------')\n",
    "        while ser.inWaiting() != 0: #Report and return the error message from the serial buffer\n",
    "            print('%s\\n' %ser.readline().decode().strip())\n",
    "        print('------------------')\n",
    "        quit() #end execution\n",
    "\n",
    "    with open(filepath, 'w') as f: #if all seems fine\n",
    "        while True: #loop indefinitely\n",
    "            if ser.inWaiting() > 1: #whenever there's something in the buffer...\n",
    "                dt_ms = datetime.datetime.now().strftime('%Y-%m-%d %H:%M:%S.%f')# the time\n",
    "                f.write('%s,%s\\n' %(dt_ms, ser.readline().decode().strip()))  \n",
    "                \n",
    "                \n",
    "                \n",
    "                \n",
    "if __name__ == '__main__':\n",
    "    #specify the sampling rate\n",
    "    samplerate = 100\n",
    "\n",
    "    ser = connect(\"/dev/tty.usbmodem1461\")\n",
    "\n",
    "    #wait for logger to send the 'ready' signal\n",
    "    while ser.inWaiting() < 1:\n",
    "        pass\n",
    "\n",
    "    #retrieve the reported logger state from the buffer\n",
    "    state = ser.readline().decode().strip()\n",
    "    if state == 'Logger ready!': #See if it is what we expect\n",
    "        #start the 'write to logfile' function\n",
    "        write_logfile(ser, 'output.csv', samplerate)\n",
    "    else: #if we get something unexpected, report the error\n",
    "        print('error, cannot connect to device.')"
   ]
  }
 ],
 "metadata": {
  "kernelspec": {
   "display_name": "Python 3",
   "language": "python",
   "name": "python3"
  },
  "language_info": {
   "codemirror_mode": {
    "name": "ipython",
    "version": 3
   },
   "file_extension": ".py",
   "mimetype": "text/x-python",
   "name": "python",
   "nbconvert_exporter": "python",
   "pygments_lexer": "ipython3",
   "version": "3.7.3"
  }
 },
 "nbformat": 4,
 "nbformat_minor": 2
}
